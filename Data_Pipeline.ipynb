{
 "cells": [
  {
   "cell_type": "code",
   "execution_count": 1,
   "metadata": {},
   "outputs": [],
   "source": [
    "%matplotlib inline\n",
    "import numpy as np\n",
    "import matplotlib\n",
    "import sys \n",
    "from utils.plot import plot_stroke\n",
    "from utils.data_generator import DataGenerator\n",
    "from utils.data_utils import convert_one_hot_encoding_to_sentence, get_standard_normalization_params\n",
    "\n",
    "sys.path.insert(0,'..')\n",
    "\n",
    "strokes_file_path = './data/strokes.npy'\n",
    "labels_file_path = './data/sentences.txt'\n",
    "batch_size = 30\n",
    "max_num_of_chars = 14\n",
    "sequence_length = 200"
   ]
  },
  {
   "cell_type": "code",
   "execution_count": 2,
   "metadata": {},
   "outputs": [],
   "source": [
    "datagen = DataGenerator(strokes_file_path=strokes_file_path, labels_file_path=labels_file_path)"
   ]
  },
  {
   "cell_type": "code",
   "execution_count": 3,
   "metadata": {},
   "outputs": [
    {
     "name": "stdout",
     "output_type": "stream",
     "text": [
      "x std:  2.0943575\n",
      "x mean:  0.41900063\n"
     ]
    }
   ],
   "source": [
    "x_values = []\n",
    "for sentence in datagen.strokes:\n",
    "    x_values.extend(sentence[:, 1])\n",
    "print('x std: ', np.std(x_values))\n",
    "print('x mean: ', np.mean(x_values))"
   ]
  },
  {
   "cell_type": "code",
   "execution_count": 4,
   "metadata": {},
   "outputs": [
    {
     "name": "stdout",
     "output_type": "stream",
     "text": [
      "y std:  1.8706665\n",
      "y mean:  -0.006098041\n"
     ]
    }
   ],
   "source": [
    "y_values = []\n",
    "for sentence in datagen.strokes:\n",
    "    y_values.extend(sentence[:, 2])\n",
    "print('y std: ', np.std(y_values))\n",
    "print('y mean: ', np.mean(y_values))"
   ]
  },
  {
   "cell_type": "code",
   "execution_count": 5,
   "metadata": {},
   "outputs": [],
   "source": [
    "batch_generator_unconditional, validation_set_unconditional = datagen.generate_unconditional_dataset(\n",
    "                                                                batch_size=batch_size,\n",
    "                                                                sequence_length=sequence_length)"
   ]
  },
  {
   "cell_type": "code",
   "execution_count": null,
   "metadata": {},
   "outputs": [],
   "source": []
  },
  {
   "cell_type": "code",
   "execution_count": 6,
   "metadata": {},
   "outputs": [],
   "source": [
    "batch_generator_conditional, validation_set_conditional = datagen.generate_conditional_dataset(\n",
    "                                                            batch_size=batch_size,\n",
    "                                                            max_num_of_chars=max_num_of_chars,\n",
    "                                                            sequence_length=sequence_length)"
   ]
  },
  {
   "cell_type": "code",
   "execution_count": 7,
   "metadata": {},
   "outputs": [],
   "source": [
    "stokes_t_un, target_un = next(validation_set_unconditional)\n",
    "stokes_t_c, target_c, sentences_input = next(validation_set_conditional)"
   ]
  },
  {
   "cell_type": "code",
   "execution_count": 8,
   "metadata": {},
   "outputs": [
    {
     "name": "stdout",
     "output_type": "stream",
     "text": [
      "(30, 200, 3)\n"
     ]
    }
   ],
   "source": [
    "#looking at the processed data\n",
    "print(np.shape(stokes_t_un))"
   ]
  },
  {
   "cell_type": "code",
   "execution_count": 9,
   "metadata": {},
   "outputs": [],
   "source": [
    "x_mean, x_std, y_mean, y_std = get_standard_normalization_params()\n",
    "stokes_t_c[:, :, 1] = (stokes_t_c[:, :, 1] * x_std) + x_mean\n",
    "stokes_t_c[:, :, 2] = (stokes_t_c[:, :, 2] * y_std) + y_mean"
   ]
  },
  {
   "cell_type": "code",
   "execution_count": 10,
   "metadata": {},
   "outputs": [
    {
     "data": {
      "image/png": "[encoded data removed]",
      "text/plain": [
       "<Figure size 1249.78x360 with 1 Axes>"
      ]
     },
     "metadata": {},
     "output_type": "display_data"
    }
   ],
   "source": [
    "plot_stroke(stokes_t_c[3, :, :])"
   ]
  },
  {
   "cell_type": "code",
   "execution_count": 11,
   "metadata": {},
   "outputs": [
    {
     "name": "stdout",
     "output_type": "stream",
     "text": [
      "6\n"
     ]
    }
   ],
   "source": [
    "# print(stokes_t_c[20, :, :])\n",
    "sentence = stokes_t_c[3, :, :]\n",
    "print(len(sentence[np.where(sentence[:, 0] == 1.)]))"
   ]
  },
  {
   "cell_type": "code",
   "execution_count": 12,
   "metadata": {},
   "outputs": [
    {
     "data": {
      "text/plain": [
       "'ebreak'"
      ]
     },
     "execution_count": 12,
     "metadata": {},
     "output_type": "execute_result"
    }
   ],
   "source": [
    "convert_one_hot_encoding_to_sentence(datagen.alphabet, sentences_input[3])"
   ]
  },
  {
   "cell_type": "code",
   "execution_count": 13,
   "metadata": {},
   "outputs": [],
   "source": [
    "lengths = []\n",
    "for i in range(len(datagen.train_sentences)):\n",
    "    lengths.append(len(datagen.train_sentences[i]))"
   ]
  },
  {
   "cell_type": "code",
   "execution_count": 14,
   "metadata": {},
   "outputs": [
    {
     "name": "stdout",
     "output_type": "stream",
     "text": [
      "65\n",
      "9\n",
      "30.683541666666667\n"
     ]
    }
   ],
   "source": [
    "print(np.max(lengths))\n",
    "print(np.min(lengths))\n",
    "print(np.mean(lengths))"
   ]
  },
  {
   "cell_type": "code",
   "execution_count": 15,
   "metadata": {},
   "outputs": [],
   "source": [
    "strokes = datagen.train_strokes\n",
    "for i in range(0, len(strokes)):\n",
    "    for j in range(0, len(strokes[i])):\n",
    "        if strokes[i][j][0] == 0. and strokes[i][j][1] == 0. and strokes[i][j][2] == 0.:\n",
    "            print(\"deleted\")"
   ]
  },
  {
   "cell_type": "code",
   "execution_count": null,
   "metadata": {},
   "outputs": [],
   "source": []
  }
 ],
 "metadata": {
  "kernelspec": {
   "display_name": "Python 3",
   "language": "python",
   "name": "python3"
  },
  "language_info": {
   "codemirror_mode": {
    "name": "ipython",
    "version": 3
   },
   "file_extension": ".py",
   "mimetype": "text/x-python",
   "name": "python",
   "nbconvert_exporter": "python",
   "pygments_lexer": "ipython3",
   "version": "3.6.5"
  }
 },
 "nbformat": 4,
 "nbformat_minor": 2
}
