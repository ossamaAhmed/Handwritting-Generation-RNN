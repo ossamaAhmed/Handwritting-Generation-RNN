{
 "cells": [
  {
   "cell_type": "code",
   "execution_count": 1,
   "metadata": {},
   "outputs": [],
   "source": [
    "%matplotlib inline\n",
    "import numpy as np\n",
    "import matplotlib\n",
    "import sys \n",
    "from utils.plot import plot_stroke\n",
    "from utils.data_generator import DataGenerator\n",
    "from utils.data_utils import convert_one_hot_encoding_to_sentence\n",
    "\n",
    "sys.path.insert(0,'..')\n",
    "\n",
    "strokes_file_path = './data/strokes.npy'\n",
    "labels_file_path = './data/sentences.txt'\n",
    "batch_size = 30\n",
    "max_num_of_chars = 14\n",
    "sequence_length = 200"
   ]
  },
  {
   "cell_type": "code",
   "execution_count": 2,
   "metadata": {},
   "outputs": [],
   "source": [
    "datagen = DataGenerator(strokes_file_path=strokes_file_path, labels_file_path=labels_file_path)"
   ]
  },
  {
   "cell_type": "code",
   "execution_count": 3,
   "metadata": {},
   "outputs": [],
   "source": [
    "batch_generator_unconditional, validation_set_unconditional = datagen.generate_unconditional_dataset(\n",
    "                                                                batch_size=batch_size,\n",
    "                                                                sequence_length=sequence_length)"
   ]
  },
  {
   "cell_type": "code",
   "execution_count": 4,
   "metadata": {},
   "outputs": [],
   "source": [
    "batch_generator_conditional, validation_set_conditional = datagen.generate_conditional_dataset(\n",
    "                                                            batch_size=batch_size,\n",
    "                                                            max_num_of_chars=max_num_of_chars,\n",
    "                                                            sequence_length=sequence_length)"
   ]
  },
  {
   "cell_type": "code",
   "execution_count": 5,
   "metadata": {},
   "outputs": [],
   "source": [
    "stokes_t_un, target_un = next(validation_set_unconditional)\n",
    "stokes_t_c, target_c, sentences_input = next(validation_set_conditional)"
   ]
  },
  {
   "cell_type": "code",
   "execution_count": 6,
   "metadata": {},
   "outputs": [
    {
     "name": "stdout",
     "output_type": "stream",
     "text": [
      "(30, 200, 3)\n"
     ]
    }
   ],
   "source": [
    "#looking at the processed data\n",
    "print(np.shape(stokes_t_un))"
   ]
  },
  {
   "cell_type": "code",
   "execution_count": 7,
   "metadata": {},
   "outputs": [
    {
     "data": {
      "image/png": "[encoded data removed]",
      "text/plain": [
       "<Figure size 453.386x360 with 1 Axes>"
      ]
     },
     "metadata": {},
     "output_type": "display_data"
    }
   ],
   "source": [
    "plot_stroke(stokes_t_c[2])"
   ]
  },
  {
   "cell_type": "code",
   "execution_count": 8,
   "metadata": {},
   "outputs": [
    {
     "data": {
      "text/plain": [
       "'day of alleged'"
      ]
     },
     "execution_count": 8,
     "metadata": {},
     "output_type": "execute_result"
    }
   ],
   "source": [
    "convert_one_hot_encoding_to_sentence(datagen.alphabet, sentences_input[2])"
   ]
  },
  {
   "cell_type": "code",
   "execution_count": 9,
   "metadata": {},
   "outputs": [],
   "source": [
    "lengths = []\n",
    "for i in range(len(datagen.train_sentences)):\n",
    "    lengths.append(len(datagen.train_sentences[i]))"
   ]
  },
  {
   "cell_type": "code",
   "execution_count": 10,
   "metadata": {},
   "outputs": [
    {
     "name": "stdout",
     "output_type": "stream",
     "text": [
      "65\n",
      "9\n",
      "30.65897435897436\n"
     ]
    }
   ],
   "source": [
    "print(np.max(lengths))\n",
    "print(np.min(lengths))\n",
    "print(np.mean(lengths))"
   ]
  },
  {
   "cell_type": "code",
   "execution_count": null,
   "metadata": {},
   "outputs": [],
   "source": []
  },
  {
   "cell_type": "code",
   "execution_count": null,
   "metadata": {},
   "outputs": [],
   "source": []
  }
 ],
 "metadata": {
  "kernelspec": {
   "display_name": "Python 3",
   "language": "python",
   "name": "python3"
  },
  "language_info": {
   "codemirror_mode": {
    "name": "ipython",
    "version": 3
   },
   "file_extension": ".py",
   "mimetype": "text/x-python",
   "name": "python",
   "nbconvert_exporter": "python",
   "pygments_lexer": "ipython3",
   "version": "3.6.5"
  }
 },
 "nbformat": 4,
 "nbformat_minor": 2
}
